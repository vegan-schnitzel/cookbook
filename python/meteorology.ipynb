{
 "cells": [
  {
   "attachments": {},
   "cell_type": "markdown",
   "metadata": {},
   "source": [
    "# Meteorology\n",
    "\n",
    "Here I'm adding things dealing with climate data analysis and visualization.\n",
    "\n",
    "**ToDo**:\n",
    "- add table of contents"
   ]
  },
  {
   "cell_type": "code",
   "execution_count": 1,
   "metadata": {},
   "outputs": [],
   "source": [
    "import numpy as np"
   ]
  },
  {
   "attachments": {},
   "cell_type": "markdown",
   "metadata": {},
   "source": [
    "## Data operations\n",
    "\n",
    "### Global mean\n",
    "\n",
    "Grid cells based on longitude and latitude are larger at the equator and smaller at the poles. Hence, when computing the *meridional* mean, I've got to add weights accordingly."
   ]
  },
  {
   "cell_type": "code",
   "execution_count": 2,
   "metadata": {},
   "outputs": [],
   "source": [
    "def global_mean(data, lat):\n",
    "    # zonal mean\n",
    "    data_zm = np.mean(data, axis=2)\n",
    "    # meridional mean\n",
    "    w = np.cos(np.deg2rad(lat))\n",
    "    data_gm = np.average(data_zm, weights=w, axis=1)\n",
    "    return data_gm"
   ]
  },
  {
   "cell_type": "code",
   "execution_count": null,
   "metadata": {},
   "outputs": [],
   "source": []
  }
 ],
 "metadata": {
  "kernelspec": {
   "display_name": "meteo",
   "language": "python",
   "name": "python3"
  },
  "language_info": {
   "codemirror_mode": {
    "name": "ipython",
    "version": 3
   },
   "file_extension": ".py",
   "mimetype": "text/x-python",
   "name": "python",
   "nbconvert_exporter": "python",
   "pygments_lexer": "ipython3",
   "version": "3.10.8"
  },
  "orig_nbformat": 4
 },
 "nbformat": 4,
 "nbformat_minor": 2
}
